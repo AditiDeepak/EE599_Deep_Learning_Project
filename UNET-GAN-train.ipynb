{
  "nbformat": 4,
  "nbformat_minor": 0,
  "metadata": {
    "colab": {
      "name": "train.ipynb",
      "provenance": []
    },
    "kernelspec": {
      "name": "python3",
      "display_name": "Python 3"
    }
  },
  "cells": [
    {
      "cell_type": "code",
      "metadata": {
        "id": "TlvWwJv-BsrZ"
      },
      "source": [
        "import torch\n",
        "import torch.nn as nn\n",
        "import torchvision\n",
        "from torch.utils.tensorboard import SummaryWriter\n",
        "\n",
        "from model import unet, Discriminator\n",
        "\n",
        "import os\n",
        "import random\n",
        "\n",
        "import matplotlib.pyplot as plt"
      ],
      "execution_count": null,
      "outputs": []
    },
    {
      "cell_type": "code",
      "metadata": {
        "colab": {
          "base_uri": "https://localhost:8080/"
        },
        "id": "mx-E6irIBwLV",
        "outputId": "dac54692-09f1-4ad9-fa17-08fcbc7d4d69"
      },
      "source": [
        "!pip install pytorch_model_summary"
      ],
      "execution_count": 2,
      "outputs": [
        {
          "output_type": "stream",
          "text": [
            "Collecting pytorch_model_summary\n",
            "  Downloading https://files.pythonhosted.org/packages/fe/45/01d67be55fe3683a9221ac956ba46d1ca32da7bf96029b8d1c7667b8a55c/pytorch_model_summary-0.1.2-py3-none-any.whl\n",
            "Requirement already satisfied: numpy in /usr/local/lib/python3.6/dist-packages (from pytorch_model_summary) (1.18.5)\n",
            "Requirement already satisfied: torch in /usr/local/lib/python3.6/dist-packages (from pytorch_model_summary) (1.7.0+cu101)\n",
            "Requirement already satisfied: tqdm in /usr/local/lib/python3.6/dist-packages (from pytorch_model_summary) (4.41.1)\n",
            "Requirement already satisfied: future in /usr/local/lib/python3.6/dist-packages (from torch->pytorch_model_summary) (0.16.0)\n",
            "Requirement already satisfied: dataclasses in /usr/local/lib/python3.6/dist-packages (from torch->pytorch_model_summary) (0.8)\n",
            "Requirement already satisfied: typing-extensions in /usr/local/lib/python3.6/dist-packages (from torch->pytorch_model_summary) (3.7.4.3)\n",
            "Installing collected packages: pytorch-model-summary\n",
            "Successfully installed pytorch-model-summary-0.1.2\n"
          ],
          "name": "stdout"
        }
      ]
    },
    {
      "cell_type": "code",
      "metadata": {
        "id": "y6vs-WrWVl7s"
      },
      "source": [
        "Config={}\n",
        "Config['num_epochs']=50\n",
        "Config['batch_szie']=60\n",
        "Config['learning_rate']=0.001\n",
        "Config['disc_loss_coeff']=1.0\n",
        "Config['gen_model_path']='/home/ubuntu/generator/'\n",
        "Config['disc_model_path']='/home/ubuntu/discriminator/'"
      ],
      "execution_count": null,
      "outputs": []
    },
    {
      "cell_type": "code",
      "metadata": {
        "id": "IPffCju16_TW"
      },
      "source": [
        "def train():\n",
        "\n",
        "  #train_dataloader\n",
        "  \n",
        "  generator=unet(4,4)\n",
        "  discriminator=Discriminator(4)\n",
        "\n",
        "  gen_loss=nn.MSELoss()\n",
        "  \n",
        "  device = torch.device(\"cuda:0\" if torch.cuda.is_available() else \"cpu\")\n",
        "  generator.to(device)\n",
        "  discriminator.to(device)\n",
        "\n",
        "  opt_generator = torch.optim.Adadelta(generator.parameters(), lr=Config['learning_rate'])\n",
        "  opt_generator2 = torch.optim.Adadelta(generator.parameters(), lr=Config['learning_rate'])\n",
        "  opt_discriminator = torch.optim.Adadelta(discriminator.parameters(), lr=Config['learning_rate'])\n",
        "\n",
        "  writer = SummaryWriter()\n",
        "\n",
        "  for i in range(Config['num_epochs']):\n",
        "\n",
        "    mean_gen_loss=0.0\n",
        "    mean_disc_loss=0.0\n",
        "    mean_gen_total_loss=0.0\n",
        "\n",
        "    for inputs,target in tqdm(train_dataloader):\n",
        "\n",
        "      #Inputs consists of (image,trimap)\n",
        "      #Output consists of the 'target image'\n",
        "\n",
        "      inputs = inputs.to(device)\n",
        "      target = target.to(device)\n",
        "\n",
        "      #For generator\n",
        "      opt_generator.zero_grad()\n",
        "      output_gen=torch.sigmoid(generator(inputs))\n",
        "      gen_loss_batch=gen_loss(output_gen,target)\n",
        "      mean_gen_loss+=gen_loss_batch.data\n",
        "\n",
        "\n",
        "      #For discriminator\n",
        "      opt_discriminator.zero_grad()\n",
        "      output_disc_real=discriminator(target)\n",
        "      output_disc_fake=discriminator(output_gen)\n",
        "      disc_loss=torch.mean(torch.log(output_disc_real) + torch.log(1-output_disc_fake))\n",
        "\n",
        "      mean_disc_loss+=disc_loss.data\n",
        "\n",
        "      total_loss=gen_loss_batch + Config['disc_loss_coeff'] * disc_loss\n",
        "      mean_gen_total_loss+=total_loss\n",
        "\n",
        "      #Optimizer for total loss and optimizer for Gen loss\n",
        "      opt_generator2.zero_grad()\n",
        "\n",
        "      #backpropagation\n",
        "      gen_loss_batch.backward()\n",
        "      opt_generator.step()\n",
        "\n",
        "      disc_loss.backward()\n",
        "      opt_discriminator.step()\n",
        "\n",
        "      total_loss.backward()\n",
        "      opt_generator2.step()\n",
        "\n",
        "    #loss per epoch\n",
        "    writer.add_scalar('discriminator_loss', mean_disc_loss/len(train_dataloader), global_step=i)\n",
        "    writer.add_scalar('generator_loss', mean_gen_loss/len(train_dataloader), global_step=i)\n",
        "    writer.add_scalar('total_generator_loss', mean_gen_total_loss/len(train_dataloader), global_step=i)\n",
        " \n",
        "  #Models are saved for the final epoch\n",
        "  torch.save(generator.state_dict(), Config['gen_model_path'], 'generator_final.pth')\n",
        "  torch.save(discriminator.state_dict(), Config['disc_model_path'], 'discriminator_final.pth')\n",
        "\n",
        "if __name__=='__main__':\n",
        "    train()"
      ],
      "execution_count": null,
      "outputs": []
    }
  ]
}