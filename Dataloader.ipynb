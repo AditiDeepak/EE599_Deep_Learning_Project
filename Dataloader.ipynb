{
  "nbformat": 4,
  "nbformat_minor": 0,
  "metadata": {
    "colab": {
      "name": "Dataloader.ipynb",
      "provenance": []
    },
    "kernelspec": {
      "name": "python3",
      "display_name": "Python 3"
    }
  },
  "cells": [
    {
      "cell_type": "code",
      "metadata": {
        "id": "L2yy9_4IGrz-"
      },
      "source": [
        "input_path = './input_images/'\n",
        "trimap_path = './trimap_images/'\n",
        "target_path = './target_images/'\n",
        "output_path = './output_images/'\n",
        "\n",
        "if not os.path.isdir(output_path):\n",
        "  os.makedirs(output_path)\n",
        "\n",
        "from torchvision import transforms\n",
        "import torch\n",
        "import torch.nn as nn\n",
        "\n",
        "from PIL import Image\n",
        "import os\n",
        "class Background_Removal_Dataset(torch.utils.data.Dataset):\n",
        "  def __init__(self, input_path,trimap_path,target_path,size):\n",
        "    self.size = size\n",
        "    self.input_path = input_path\n",
        "    self.trimap_path = trimap_path\n",
        "    self.target_path = target_path\n",
        "    self.input_image = os.listdir(input_path)\n",
        "    self.trimap_image = os.listdir(trimap_path)\n",
        "    self.target_image = os.listdir(target_path)\n",
        "\n",
        "    self.= transform = transforms.Compose([\n",
        "        transforms.RandomCrop(size),\n",
        "        transforms.ToTensor(),\n",
        "    ])\n",
        "\n",
        "  def __len__(self):\n",
        "      return len(self.input_images)\n",
        "\n",
        "  def __getitem__(self, idx):\n",
        "      input_image = Image.open(os.path.join(self.input_path, self.input_image[idx]))\n",
        "      trimap_image = Image.open(os.path.join(self.trimap_path, self.trimap_image[idx]))\n",
        "      target_image = Image.open(os.path.join(self.target_path, self.target_image[idx]))\n",
        "\n",
        "      return torch.cat(self.transform(input_image),self.transform(trimap_image),dim=0), self.transform(target_image)"
      ],
      "execution_count": null,
      "outputs": []
    }
  ]
}