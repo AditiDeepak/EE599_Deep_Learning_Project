{
  "nbformat": 4,
  "nbformat_minor": 0,
  "metadata": {
    "colab": {
      "name": "model.ipynb",
      "provenance": []
    },
    "kernelspec": {
      "name": "python3",
      "display_name": "Python 3"
    }
  },
  "cells": [
    {
      "cell_type": "code",
      "metadata": {
        "id": "L72zzFO8028z"
      },
      "source": [
        "import torch.nn.functional as F\n",
        "\n",
        "from .unet_parts import *"
      ],
      "execution_count": null,
      "outputs": []
    },
    {
      "cell_type": "code",
      "metadata": {
        "id": "AUjkj3VP1Hr5"
      },
      "source": [
        "class unet(nn.Module):\n",
        "  def __init__(input_size, hidden_size, output_size):\n",
        "  super(unet, self).__init__()\n",
        "\n",
        "  self.input_size = input_size\n",
        "  self.hidden_size = hidden_size\n",
        "  self.output_size = output_size\n",
        "\n",
        "  self.input1 = DoubleConv(input_size, 64)\n",
        "  self.downsc1 = DownScaling(64, 128)\n",
        "  self.downsc2 = DownScaling(128, 256)\n",
        "  self.downsc3 = DownScaling(256, 512)\n",
        "  \n",
        "  self.downsc4 = DownScaling(512, 1024)\n",
        "  self.upsc1 = UpScaling(1024, 512)\n",
        "  self.upsc2 = UpScaling(512, 256)\n",
        "  self.upsc3 = UpScaling(256, 128)\n",
        "  self.upsc4 = UpScaling(128, 64)\n",
        "  self.outc = OutConv(64, output_size)\n",
        "\n",
        "\n",
        "  def forward(self, x):\n",
        "    \n",
        "    in1 = self.input1(x)\n",
        "    in2 = self.downsc1(in1)\n",
        "    in3 = self.downsc2(in2)\n",
        "    in4 = self.downsc3(in3)\n",
        "    in5 = self.downsc4(in4)\n",
        "    x = self.upsc1(in5, in4)\n",
        "    x = self.upsc2(x, in3)\n",
        "    x = self.upsc3(x, in2)\n",
        "    x = self.upsc4(x, in1)\n",
        "    output = self.outc(x)\n",
        "    return output"
      ],
      "execution_count": null,
      "outputs": []
    }
  ]
}