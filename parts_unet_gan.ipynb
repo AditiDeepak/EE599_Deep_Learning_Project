{
  "nbformat": 4,
  "nbformat_minor": 0,
  "metadata": {
    "colab": {
      "name": "parts-unet-gan.ipynb",
      "provenance": []
    },
    "kernelspec": {
      "name": "python3",
      "display_name": "Python 3"
    }
  },
  "cells": [
    {
      "cell_type": "code",
      "metadata": {
        "id": "ppBorNhkgQ8C"
      },
      "source": [
        "import torch\n",
        "import torch.nn as nn\n",
        "import torch.nn.functional as F"
      ],
      "execution_count": null,
      "outputs": []
    },
    {
      "cell_type": "code",
      "metadata": {
        "id": "8Su6OdLahK6V"
      },
      "source": [
        "class Conv(nn.Module):\n",
        "    def __init__(self, input_size, hidden_size, output_size):\n",
        "        #Double Convolution\n",
        "        super(Conv, self).__init__()\n",
        "        \n",
        "        self.input_size = input_size\n",
        "        self.hidden_size = hidden_size\n",
        "        self.output_size = output_size\n",
        "        \n",
        "        self.conv1_1=nn.Conv2d(self.input_size, self.hidden_size, kernel_size=3, padding=1)\n",
        "        self.norm1=nn.BatchNorm2d(self.hidden_size)\n",
        "        \n",
        "        self.conv1_2=nn.Conv2d(self.hidden_size, self.output_size, kernel_size=3, padding=1),\n",
        "        self.norm2=nn.BatchNorm2d(self.output_size)\n",
        "        \n",
        "        \n",
        "    \n",
        "    def forward(self, x):     \n",
        "        out=x\n",
        "                \n",
        "        out = self.norm1(self.conv1_1(out))\n",
        "        out = F.relu(out)\n",
        "        out = self.norm2(self.conv1_2(out))\n",
        "        out = F.relu(out)\n",
        "\n",
        "        return out\n",
        "\n",
        "class DownScaling(self, input_size, hidden_size, output_size):\n",
        "  #Maxpooling and Double Convolution\n",
        "  super(DownScaling, self).__init__()\n",
        "  self.pool1 = nn.MaxPool2d(kernel_size=2)\n",
        "\n",
        "  def forward(self,x):\n",
        "    out=x\n",
        "    out = self.pool1(out)\n",
        "    c=Conv()\n",
        "    out=c.forward(out)\n",
        "\n",
        "  \n",
        "class UpScaling(self, input_size, hidden_size, output_size):\n",
        "  #Conv2dtranspose and DoubleConv\n",
        "  super(UpScaling, self).__init__()\n",
        "\n",
        "  self.up = nn.ConvTranspose2d(in_channels , in_channels // 2, kernel_size=2, stride=2)\n",
        "  self.conv = Conv(in_channels, out_channels)\n",
        "  \n",
        "  def forward(self,x):\n",
        "    out=x\n",
        "    out = self.up(out)\n",
        "\n",
        "class OutConv(nn.Module):\n",
        "  pass"
      ],
      "execution_count": null,
      "outputs": []
    }
  ]
}