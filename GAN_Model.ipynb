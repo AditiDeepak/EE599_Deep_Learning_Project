{
 "cells": [
  {
   "cell_type": "code",
   "execution_count": 3,
   "metadata": {
    "id": "L72zzFO8028z"
   },
   "outputs": [],
   "source": [
    "import torch\n",
    "import torch.nn as nn\n",
    "import torch.nn.functional as F"
   ]
  },
  {
   "cell_type": "code",
   "execution_count": 5,
   "metadata": {},
   "outputs": [],
   "source": [
    "class Conv(nn.Module):\n",
    "    def __init__(self,input_size, output_size):\n",
    "        super(Conv, self).__init__()\n",
    "        \n",
    "        self.input_size = input_size\n",
    "        self.output_size = output_size\n",
    "        self.conv1 = nn.Conv2d(in_channels=self.input_size, out_channels=self.output_size,\n",
    "                               kernel_size=3,padding='same')\n",
    "        self.conv2_bn = nn.BatchNorm2d(20)\n",
    "        \n",
    "        \n",
    "    def forward(self, x):\n",
    "        x = self.conv1(x)\n",
    "        x = self.conv2_bn(x)\n",
    "        x = F.relu(x)\n",
    "        \n",
    "        return x\n",
    "           "
   ]
  },
  {
   "cell_type": "code",
   "execution_count": 18,
   "metadata": {},
   "outputs": [
    {
     "data": {
      "text/plain": [
       "Conv(\n",
       "  (conv1): Conv2d(256, 512, kernel_size=(3, 3), stride=(1, 1), padding=same)\n",
       "  (conv2_bn): BatchNorm2d(20, eps=1e-05, momentum=0.1, affine=True, track_running_stats=True)\n",
       ")"
      ]
     },
     "execution_count": 18,
     "metadata": {},
     "output_type": "execute_result"
    }
   ],
   "source": [
    "model = Conv(256,512)\n",
    "model"
   ]
  },
  {
   "cell_type": "code",
   "execution_count": 8,
   "metadata": {},
   "outputs": [],
   "source": [
    "class DownConv(nn.Module):\n",
    "    def __init__(self,input_size, output_size):\n",
    "        super(DownConv, self).__init__()\n",
    "        \n",
    "        self.input_size = input_size\n",
    "        self.output_size = output_size\n",
    "        self.conv1 = nn.Conv2d(in_channels=self.input_size, out_channels=self.output_size,\n",
    "                               kernel_size=3,padding='same')\n",
    "        self.conv2_bn = nn.BatchNorm2d(20)\n",
    "        \n",
    "    def forward(self, x):\n",
    "        x = self.conv1(x)\n",
    "        x = self.conv2_bn(x)\n",
    "        x = F.max_pool2d(x, 2)\n",
    "        x = F.relu(x)\n",
    "        \n",
    "        return x\n",
    "             \n",
    "    "
   ]
  },
  {
   "cell_type": "code",
   "execution_count": 17,
   "metadata": {},
   "outputs": [
    {
     "data": {
      "text/plain": [
       "DownConv(\n",
       "  (conv1): Conv2d(256, 512, kernel_size=(3, 3), stride=(1, 1), padding=same)\n",
       "  (conv2_bn): BatchNorm2d(20, eps=1e-05, momentum=0.1, affine=True, track_running_stats=True)\n",
       ")"
      ]
     },
     "execution_count": 17,
     "metadata": {},
     "output_type": "execute_result"
    }
   ],
   "source": [
    "model = DownConv(256,512)\n",
    "model"
   ]
  },
  {
   "cell_type": "code",
   "execution_count": 10,
   "metadata": {},
   "outputs": [],
   "source": [
    "class InConv(nn.Module):\n",
    "    def __init__(self,input_size, output_size):\n",
    "        super(InConv, self).__init__()\n",
    "        \n",
    "        self.input_size = input_size\n",
    "        self.output_size = output_size\n",
    "        self.conv1 = nn.Conv2d(in_channels=self.input_size, out_channels=self.output_size,\n",
    "                               kernel_size=3,padding='same')\n",
    "        self.conv1_bn = nn.BatchNorm2d(20)\n",
    "        self.conv2 = nn.Conv2d(in_channels=self.input_size, out_channels=self.output_size,\n",
    "                               kernel_size=3,padding='same')\n",
    "        self.conv2_bn = nn.BatchNorm2d(20)\n",
    "        \n",
    "    def forward(self,x):\n",
    "        x = self.conv1(x)\n",
    "        x = self.conv1_bn(x)\n",
    "        x = F.relu(x)\n",
    "        x = self.conv2(x)\n",
    "        x = self.conv2_bn(x)\n",
    "        x = F.relu(x)\n",
    "        \n",
    "        return x\n",
    "        \n"
   ]
  },
  {
   "cell_type": "code",
   "execution_count": 16,
   "metadata": {},
   "outputs": [
    {
     "data": {
      "text/plain": [
       "InConv(\n",
       "  (conv1): Conv2d(256, 512, kernel_size=(3, 3), stride=(1, 1), padding=same)\n",
       "  (conv1_bn): BatchNorm2d(20, eps=1e-05, momentum=0.1, affine=True, track_running_stats=True)\n",
       "  (conv2): Conv2d(256, 512, kernel_size=(3, 3), stride=(1, 1), padding=same)\n",
       "  (conv2_bn): BatchNorm2d(20, eps=1e-05, momentum=0.1, affine=True, track_running_stats=True)\n",
       ")"
      ]
     },
     "execution_count": 16,
     "metadata": {},
     "output_type": "execute_result"
    }
   ],
   "source": [
    "model = InConv(256,512)\n",
    "model"
   ]
  },
  {
   "cell_type": "code",
   "execution_count": 14,
   "metadata": {},
   "outputs": [],
   "source": [
    "class Down(nn.Module):\n",
    "    def __init__(self,input_size, output_size):\n",
    "        super(Down, self).__init__()\n",
    "        \n",
    "        self.input_size = input_size\n",
    "        self.output_size = output_size\n",
    "        self.conv1 = nn.Conv2d(in_channels=self.input_size, out_channels=self.output_size,\n",
    "                               kernel_size=3,padding='same')\n",
    "        self.conv1_bn = nn.BatchNorm2d(20)\n",
    "        self.conv2 = nn.Conv2d(in_channels=self.input_size, out_channels=self.output_size,\n",
    "                               kernel_size=3,padding='same')\n",
    "        self.conv2_bn = nn.BatchNorm2d(20)\n",
    "        \n",
    "        \n",
    "    def forward(self,x):\n",
    "        x = F.max_pool2d(x, 2)\n",
    "        x = self.conv1(x)\n",
    "        x = self.conv1_bn(x)\n",
    "        x = F.relu(x)\n",
    "        x = self.conv2(x)\n",
    "        x = self.conv2_bn(x)\n",
    "        x = F.relu(x)\n",
    "        \n",
    "        return x\n",
    "        \n",
    "        "
   ]
  },
  {
   "cell_type": "code",
   "execution_count": 15,
   "metadata": {},
   "outputs": [
    {
     "data": {
      "text/plain": [
       "Down(\n",
       "  (conv1): Conv2d(256, 512, kernel_size=(3, 3), stride=(1, 1), padding=same)\n",
       "  (conv1_bn): BatchNorm2d(20, eps=1e-05, momentum=0.1, affine=True, track_running_stats=True)\n",
       "  (conv2): Conv2d(256, 512, kernel_size=(3, 3), stride=(1, 1), padding=same)\n",
       "  (conv2_bn): BatchNorm2d(20, eps=1e-05, momentum=0.1, affine=True, track_running_stats=True)\n",
       ")"
      ]
     },
     "execution_count": 15,
     "metadata": {},
     "output_type": "execute_result"
    }
   ],
   "source": [
    "model = Down(256,512)\n",
    "model"
   ]
  },
  {
   "cell_type": "code",
   "execution_count": 19,
   "metadata": {},
   "outputs": [],
   "source": [
    "class OutConv(nn.Module):\n",
    "    def __init__(self,input_size, output_size):\n",
    "        super(OutConv, self).__init__()\n",
    "        \n",
    "        self.input_size = input_size\n",
    "        self.output_size = output_size\n",
    "        self.conv1 = nn.Conv2d(in_channels=self.input_size, out_channels=self.output_size,\n",
    "                               kernel_size=1)\n",
    "    def forward(self,x):\n",
    "        x = self.conv1(x)\n",
    "        return x\n",
    "        "
   ]
  },
  {
   "cell_type": "code",
   "execution_count": null,
   "metadata": {},
   "outputs": [],
   "source": [
    "#Still need to work on this module\n",
    "class Up(nn.Module):\n",
    "    def __init__(self,input_size,output_size):\n",
    "        \n",
    "        self.input_size = input_size\n",
    "        self.output_size = output_size\n",
    "        self.conv2d_transpose = nn.ConvTranspose2d(in_channels=self.input_size, out_channels=self.output_size,\n",
    "                               kernel_size=3, stride = 2, padding='same')\n",
    "        \n",
    "        #F.conv_transpose2d(input, weight)\n",
    "        "
   ]
  },
  {
   "cell_type": "code",
   "execution_count": 20,
   "metadata": {
    "id": "AUjkj3VP1Hr5"
   },
   "outputs": [],
   "source": [
    "class unet(nn.Module):\n",
    "    def __init__(self,input_size, output_size):\n",
    "        super(unet, self).__init__()\n",
    "\n",
    "        self.input_size = input_size\n",
    "        self.output_size = output_size\n",
    "\n",
    "        self.input1 = InConv(input_size, 64)\n",
    "        \n",
    "        self.downsc1 = Down(64, 128)\n",
    "        self.downsc2 = Down(128, 256)\n",
    "        self.downsc3 = Down(256, 512)\n",
    "        self.downsc4 = Down(512, 1024)\n",
    "        \n",
    "        self.upsc1 = Up(1024, 512)\n",
    "        self.upsc2 = Up(512, 256)\n",
    "        self.upsc3 = Up(256, 128)\n",
    "        self.upsc4 = Up(128, 64)\n",
    "        self.outc = OutConv(64, output_size)\n",
    "\n",
    "    def forward(self, x):\n",
    "    \n",
    "        in1 = self.input1(x)\n",
    "        in2 = self.downsc1(in1)\n",
    "        in3 = self.downsc2(in2)\n",
    "        in4 = self.downsc3(in3)\n",
    "        in5 = self.downsc4(in4)\n",
    "        x = self.upsc1(in5, in4)\n",
    "        x = self.upsc2(x, in3)\n",
    "        x = self.upsc3(x, in2)\n",
    "        x = self.upsc4(x, in1)\n",
    "        output = self.outc(x)\n",
    "        return output"
   ]
  },
  {
   "cell_type": "code",
   "execution_count": 23,
   "metadata": {},
   "outputs": [],
   "source": [
    "class Discriminator(nn.Module):\n",
    "    def __init__(self,input_size):\n",
    "        super(Discriminator, self).__init__()\n",
    "        \n",
    "        self.input_size = input_size\n",
    "        \n",
    "        self.conv1 = DownConv(input_size, 64)\n",
    "        self.conv2 = DownConv(64,128)\n",
    "        self.conv3 = DownConv(128,256)\n",
    "        self.conv4 = DownConv(256,512)\n",
    "        \n",
    "    def forward(self,x):\n",
    "        x = self.conv1(x)\n",
    "        x = self.conv2(x)\n",
    "        x = self.conv3(x)\n",
    "        x = self.conv4(x)\n",
    "        \n",
    "        dim = np.prod(x.shape[1:])\n",
    "        x = x.view(-1,dim)\n",
    "        x = nn.linear(x,1)\n",
    "        x = nn.Sigmoid()\n",
    "        \n",
    "        return x\n",
    "        "
   ]
  },
  {
   "cell_type": "code",
   "execution_count": 24,
   "metadata": {},
   "outputs": [
    {
     "data": {
      "text/plain": [
       "Discriminator(\n",
       "  (conv1): DownConv(\n",
       "    (conv1): Conv2d(256, 64, kernel_size=(3, 3), stride=(1, 1), padding=same)\n",
       "    (conv2_bn): BatchNorm2d(20, eps=1e-05, momentum=0.1, affine=True, track_running_stats=True)\n",
       "  )\n",
       "  (conv2): DownConv(\n",
       "    (conv1): Conv2d(64, 128, kernel_size=(3, 3), stride=(1, 1), padding=same)\n",
       "    (conv2_bn): BatchNorm2d(20, eps=1e-05, momentum=0.1, affine=True, track_running_stats=True)\n",
       "  )\n",
       "  (conv3): DownConv(\n",
       "    (conv1): Conv2d(128, 256, kernel_size=(3, 3), stride=(1, 1), padding=same)\n",
       "    (conv2_bn): BatchNorm2d(20, eps=1e-05, momentum=0.1, affine=True, track_running_stats=True)\n",
       "  )\n",
       "  (conv4): DownConv(\n",
       "    (conv1): Conv2d(256, 512, kernel_size=(3, 3), stride=(1, 1), padding=same)\n",
       "    (conv2_bn): BatchNorm2d(20, eps=1e-05, momentum=0.1, affine=True, track_running_stats=True)\n",
       "  )\n",
       ")"
      ]
     },
     "execution_count": 24,
     "metadata": {},
     "output_type": "execute_result"
    }
   ],
   "source": [
    "model = Discriminator(256)\n",
    "model"
   ]
  },
  {
   "cell_type": "code",
   "execution_count": null,
   "metadata": {},
   "outputs": [],
   "source": []
  }
 ],
 "metadata": {
  "colab": {
   "name": "model.ipynb",
   "provenance": []
  },
  "kernelspec": {
   "display_name": "Python 3",
   "language": "python",
   "name": "python3"
  },
  "language_info": {
   "codemirror_mode": {
    "name": "ipython",
    "version": 3
   },
   "file_extension": ".py",
   "mimetype": "text/x-python",
   "name": "python",
   "nbconvert_exporter": "python",
   "pygments_lexer": "ipython3",
   "version": "3.8.3"
  }
 },
 "nbformat": 4,
 "nbformat_minor": 1
}
